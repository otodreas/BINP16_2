{
 "cells": [
  {
   "cell_type": "code",
   "execution_count": 8,
   "id": "b4e74c9a-dc71-4257-8a71-f25437721f91",
   "metadata": {},
   "outputs": [
    {
     "data": {
      "text/plain": [
       "0"
      ]
     },
     "execution_count": 8,
     "metadata": {},
     "output_type": "execute_result"
    }
   ],
   "source": [
    "# zero is even\n",
    "0%2 == 0 and True"
   ]
  },
  {
   "cell_type": "code",
   "execution_count": 1,
   "id": "f97e175b-1803-4cf3-a30f-c36ecc4d3c0d",
   "metadata": {},
   "outputs": [
    {
     "name": "stdout",
     "output_type": "stream",
     "text": [
      "0 9\n",
      "\n"
     ]
    },
    {
     "ename": "NameError",
     "evalue": "name 'IDs_fasta' is not defined",
     "output_type": "error",
     "traceback": [
      "\u001b[31m---------------------------------------------------------------------------\u001b[39m",
      "\u001b[31mNameError\u001b[39m                                 Traceback (most recent call last)",
      "\u001b[36mCell\u001b[39m\u001b[36m \u001b[39m\u001b[32mIn[1]\u001b[39m\u001b[32m, line 26\u001b[39m\n\u001b[32m     22\u001b[39m     custom_strings_dict[ID_blast] = (\u001b[33mf\u001b[39m\u001b[33m'\u001b[39m\u001b[38;5;130;01m\\t\u001b[39;00m\u001b[33mprotein=\u001b[39m\u001b[38;5;132;01m{\u001b[39;00mdesc_blast\u001b[38;5;132;01m}\u001b[39;00m\u001b[33m'\u001b[39m)\n\u001b[32m     23\u001b[39m         \u001b[38;5;66;03m# at this stage we have the string and the ID number that has an equivalent in the fasta file\u001b[39;00m\n\u001b[32m     24\u001b[39m         \u001b[38;5;66;03m# we want to write it into the output file\u001b[39;00m\n\u001b[32m---> \u001b[39m\u001b[32m26\u001b[39m \u001b[38;5;28mprint\u001b[39m(custom_strings_dict[\u001b[43mIDs_fasta\u001b[49m[\u001b[32m0\u001b[39m]])\n\u001b[32m     28\u001b[39m \u001b[38;5;66;03m# print(custom_strings_dict)\u001b[39;00m\n",
      "\u001b[31mNameError\u001b[39m: name 'IDs_fasta' is not defined"
     ]
    }
   ],
   "source": [
    "# access protein description, store it in custom_string\n",
    "\n",
    "data_blast = []\n",
    "with open('Materials/malaria.blastx.tab', 'r') as blast:\n",
    "    lines = blast.readlines()\n",
    "    for i, l in enumerate(lines):\n",
    "        if i == 0:\n",
    "            blast_header = l.split('\\t')\n",
    "        else:\n",
    "            data_blast.append(l.split('\\t'))\n",
    "\n",
    "print(blast_header.index('#queryName'), blast_header.index('hitDescription'))\n",
    "\n",
    "ID_blast_index, desc_blast_index = blast_header.index('#queryName'), blast_header.index('hitDescription')\n",
    "\n",
    "print()\n",
    "\n",
    "custom_strings_dict = {}\n",
    "\n",
    "for i, row in enumerate(IDs_blast):\n",
    "    ID_blast, desc_blast = IDs_blast[i][ID_blast_index], IDs_blast[i][desc_blast_index]\n",
    "    custom_strings_dict[ID_blast] = (f'\\tprotein={desc_blast}')\n",
    "        # at this stage we have the string and the ID number that has an equivalent in the fasta file\n",
    "        # we want to write it into the output file\n",
    "\n",
    "print(custom_strings_dict[IDs_fasta[0]])\n",
    "\n",
    "# print(custom_strings_dict)"
   ]
  },
  {
   "cell_type": "code",
   "execution_count": 101,
   "id": "ba71d075-666d-4582-819b-d90b005d2367",
   "metadata": {},
   "outputs": [
    {
     "name": "stdout",
     "output_type": "stream",
     "text": [
      "5936 <class 'list'>\n",
      "5936 <class 'list'>\n",
      "5936 <class 'list'>\n",
      "5936 <class 'list'>\n",
      "5936 <class 'dict'>\n"
     ]
    }
   ],
   "source": [
    "# get ID's corresponding with queryName in the blast file\n",
    "\n",
    "IDs_fasta = []\n",
    "headers_fasta = []\n",
    "seqs_fasta = []\n",
    "with open('Materials/malaria.fna', 'r') as fasta:\n",
    "    lines = fasta.readlines()\n",
    "    for l in lines:\n",
    "        if l.startswith('>'):\n",
    "            headers_fasta.append(l.strip())\n",
    "            IDs_fasta.append(l.split()[0][1:])\n",
    "        else:\n",
    "            seqs_fasta.append(l.strip())\n",
    "\n",
    "#IDs_blast = list(blast['#queryName'])\n",
    "\n",
    "print(len(IDs_fasta), type(IDs_fasta))\n",
    "print(len(headers_fasta), type(headers_fasta))\n",
    "print(len(seqs_fasta), type(seqs_fasta))\n",
    "print(len(IDs_blast), type(IDs_blast))\n",
    "\n",
    "print(len(custom_strings_dict), type(custom_strings_dict))\n",
    "\n",
    "#IDs_fasta_set = set(IDs_fasta)\n",
    "#IDs_blast_set = set(IDs_blast)\n",
    "\n",
    "# data length mismatch:\n",
    "# len(ID_fasta_set) != len(ID_blast_set)\n",
    "\n",
    "# protein ID mismatch (only possible if there is no data length mismatch\n",
    "# len(IDs_fasta_set & IDs_blast_set) != len(ID_fasta_set)"
   ]
  },
  {
   "cell_type": "code",
   "execution_count": 125,
   "id": "16411233-5c62-41f6-8028-a4519a1e685f",
   "metadata": {},
   "outputs": [],
   "source": [
    "\n",
    "\n",
    "null_IDs_blast_set = set()\n",
    "null_IDs_blast = []\n",
    "\n",
    "for k in custom_strings_dict.keys():\n",
    "    if 'null' in custom_strings_dict[k]:\n",
    "        null_IDs_blast_set.add(k)\n",
    "        null_IDs_blast.append(k)\n",
    "\n",
    "\n",
    "\n",
    "\n",
    "if (len(IDs_fasta) == len(headers_fasta) == len(seqs_fasta) == len(custom_strings_dict)) != 1:\n",
    "    print('data length error')\n",
    "\n",
    "IDs_fasta_set = set(IDs_fasta)\n",
    "    \n",
    "\n",
    "output_path = 'output.txt'\n",
    "\n",
    "with open(output_path, 'w') as output:\n",
    "    for i, header_fasta in enumerate(headers_fasta):\n",
    "        if IDs_fasta[i] not in null_IDs_blast:\n",
    "            output.write(header_fasta + custom_strings_dict[IDs_fasta[i]] + '\\n')\n",
    "            output.write(seqs_fasta[i] + '\\n')\n",
    "        \n",
    "        "
   ]
  },
  {
   "cell_type": "code",
   "execution_count": 119,
   "id": "11543f8e-c7b6-4071-b438-1c0a13edd79b",
   "metadata": {},
   "outputs": [
    {
     "name": "stdout",
     "output_type": "stream",
     "text": [
      "1579\n"
     ]
    }
   ],
   "source": [
    "null_IDs_blast = []\n",
    "\n",
    "for k in custom_strings_dict.keys():\n",
    "    if 'null' in custom_strings_dict[k]:\n",
    "        null_IDs_blast.append(k)\n",
    "\n",
    "print(len(null_IDs_blast))\n",
    "\n",
    "# NUMBER OF NULLS"
   ]
  },
  {
   "cell_type": "code",
   "execution_count": 124,
   "id": "77ec989a-ee0b-4271-8ab8-6e1f37edadb3",
   "metadata": {},
   "outputs": [
    {
     "name": "stdout",
     "output_type": "stream",
     "text": [
      "1579\n"
     ]
    }
   ],
   "source": [
    "print(len(set(null_IDs_blast) & set(IDs_fasta)))"
   ]
  },
  {
   "cell_type": "code",
   "execution_count": 1,
   "id": "10439d61-7014-4aad-a6c5-a896fa21592d",
   "metadata": {},
   "outputs": [
    {
     "name": "stdout",
     "output_type": "stream",
     "text": [
      "done\n"
     ]
    }
   ],
   "source": [
    "import pandas as pd\n",
    "\n",
    "df = pd.read_csv('Materials/malaria.blastx.tab', sep = '\\t')\n",
    "df.to_csv('Materials/malaria.blastx.csv')\n",
    "\n",
    "print('done')\n",
    "\n",
    "# making a csv file for bug testing"
   ]
  }
 ],
 "metadata": {
  "kernelspec": {
   "display_name": "Python 3 (ipykernel)",
   "language": "python",
   "name": "python3"
  },
  "language_info": {
   "codemirror_mode": {
    "name": "ipython",
    "version": 3
   },
   "file_extension": ".py",
   "mimetype": "text/x-python",
   "name": "python",
   "nbconvert_exporter": "python",
   "pygments_lexer": "ipython3",
   "version": "3.13.0"
  }
 },
 "nbformat": 4,
 "nbformat_minor": 5
}
